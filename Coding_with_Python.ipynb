{
 "cells": [
  {
   "cell_type": "markdown",
   "metadata": {},
   "source": [
    "# Task 1"
   ]
  },
  {
   "cell_type": "markdown",
   "metadata": {},
   "source": [
    "[Python for Developers](http://ricardoduarte.github.io/python-for-developers/)\n",
    "This notebook is about taking the next steps with Python Development. There are  chapters about basic Python, web development, databases and much more. \n",
    "I find this interesting because I have a passion for computer science and coding, and in my own time I have made some Python applications myself. "
   ]
  },
  {
   "cell_type": "markdown",
   "metadata": {},
   "source": [
    "# Task 2"
   ]
  },
  {
   "cell_type": "markdown",
   "metadata": {},
   "source": [
    "A) Python Packages\n",
    "* [PyGame](https://www.pygame.org/wiki/GettingStarted)\n",
    "    * Package used to to develop games using Python\n",
    "* [SQLAlchemy](https://www.sqlalchemy.org/)\n",
    "    * Python package for SQL, can be used for websites\n",
    "* [Scrapy](https://scrapy.org/)\n",
    "    * Packages used for web crawling and extracting data from sites\n",
    "___\n",
    "B)\n",
    "* [PlotNine](https://plotnine.readthedocs.io/en/stable/#)\n",
    "___\n",
    "C)\n",
    "* [Pandas](http://pandas.pydata.org/)\n"
   ]
  },
  {
   "cell_type": "markdown",
   "metadata": {},
   "source": [
    "# Task 3"
   ]
  },
  {
   "cell_type": "markdown",
   "metadata": {},
   "source": [
    "* Importing packages\n",
    "    * Python\n",
    "        * import \"package\" as \"alias\"\n",
    "    * R\n",
    "        * library(\"package\")\n",
    "* Assigning variables\n",
    "    * Python\n",
    "        * \"variable\" = \"something\"\n",
    "        * In Python, cannot use <-, only =\n",
    "    * R\n",
    "        * \"variable\" <- \"something\"\n",
    "        * In R, you can use <- or = \n",
    "* Loops\n",
    "    * Python\n",
    "        * for \"something\" in \"dataframe\":\n",
    "        * Don't need brackets, indentation is KEY\n",
    "    * R\n",
    "        * for (\"something\" in \"dataframe\") {\n",
    "        * Need brackets"
   ]
  },
  {
   "cell_type": "markdown",
   "metadata": {},
   "source": [
    "# Task 4"
   ]
  },
  {
   "cell_type": "code",
   "execution_count": 24,
   "metadata": {},
   "outputs": [
    {
     "name": "stdout",
     "output_type": "stream",
     "text": [
      "My favorite animal is Snow Leopard, my favorite movie(s) are Lord of the Rings (all 3) and my favorite show is Game of Thrones\n"
     ]
    }
   ],
   "source": [
    "x = \"Snow Leopard\"\n",
    "y = \"Lord of the Rings (all 3)\"\n",
    "z = \"Game of Thrones\"\n",
    "\n",
    "print \"My favorite animal is \" + x + \", my favorite movie(s) are \" + y + \" and my favorite show is \" + z "
   ]
  },
  {
   "cell_type": "markdown",
   "metadata": {},
   "source": [
    "# Task 5"
   ]
  },
  {
   "cell_type": "code",
   "execution_count": 26,
   "metadata": {},
   "outputs": [
    {
     "name": "stdout",
     "output_type": "stream",
     "text": [
      "My favorite animal is Snow Leopard, my favorite movie(s) are Lord of the Rings (all 3) , my favorite show is Game of Thrones and my lucky numer is 16\n"
     ]
    }
   ],
   "source": [
    "num = 16\n",
    "\n",
    "\n",
    "\n",
    "print \"My favorite animal is \" + x + \", my favorite movie(s) are \" + y + \" , my favorite show is \" + z + \" and my lucky numer is \" + str(num)"
   ]
  },
  {
   "cell_type": "markdown",
   "metadata": {},
   "source": [
    "# Task 6"
   ]
  },
  {
   "cell_type": "code",
   "execution_count": 35,
   "metadata": {},
   "outputs": [],
   "source": [
    "list = [ x, y, z, str(num)]\n",
    "all = list[0] + \" \" + list[1] + \" \" + list[2] + \" \" + list[3]"
   ]
  },
  {
   "cell_type": "code",
   "execution_count": 38,
   "metadata": {},
   "outputs": [
    {
     "data": {
      "text/plain": [
       "6"
      ]
     },
     "execution_count": 38,
     "metadata": {},
     "output_type": "execute_result"
    }
   ],
   "source": [
    "all.count(\"o\")"
   ]
  },
  {
   "cell_type": "code",
   "execution_count": 39,
   "metadata": {},
   "outputs": [
    {
     "data": {
      "text/plain": [
       "25"
      ]
     },
     "execution_count": 39,
     "metadata": {},
     "output_type": "execute_result"
    }
   ],
   "source": [
    "all.find(\"Rings\")"
   ]
  },
  {
   "cell_type": "markdown",
   "metadata": {},
   "source": [
    "# Task 7"
   ]
  },
  {
   "cell_type": "code",
   "execution_count": 46,
   "metadata": {},
   "outputs": [
    {
     "name": "stdout",
     "output_type": "stream",
     "text": [
      "Snow Leopard Lord of the Rin\n"
     ]
    }
   ],
   "source": [
    "print all[0:len(all)/2]"
   ]
  },
  {
   "cell_type": "markdown",
   "metadata": {},
   "source": [
    "# Task 8"
   ]
  },
  {
   "cell_type": "code",
   "execution_count": 57,
   "metadata": {},
   "outputs": [
    {
     "data": {
      "text/plain": [
       "'Snow Leopard Lord of the Rings (all 3) Game of Thrones '"
      ]
     },
     "execution_count": 57,
     "metadata": {},
     "output_type": "execute_result"
    }
   ],
   "source": [
    "all.strip(str(num))"
   ]
  },
  {
   "cell_type": "code",
   "execution_count": 58,
   "metadata": {},
   "outputs": [
    {
     "data": {
      "text/plain": [
       "'Snow Leopard Avatar: The Last Airbender Game of Thrones 16'"
      ]
     },
     "execution_count": 58,
     "metadata": {},
     "output_type": "execute_result"
    }
   ],
   "source": [
    "all.replace(y, \"Avatar: The Last Airbender\")"
   ]
  },
  {
   "cell_type": "markdown",
   "metadata": {},
   "source": [
    "# Task 9"
   ]
  },
  {
   "cell_type": "code",
   "execution_count": 63,
   "metadata": {},
   "outputs": [],
   "source": [
    "new_list = all.split()\n",
    "new_list.insert(len(new_list)/2, \"NEW WORD\")"
   ]
  },
  {
   "cell_type": "markdown",
   "metadata": {},
   "source": [
    "# Task 10"
   ]
  },
  {
   "cell_type": "code",
   "execution_count": 72,
   "metadata": {},
   "outputs": [
    {
     "name": "stdout",
     "output_type": "stream",
     "text": [
      "1st Quartile\n"
     ]
    }
   ],
   "source": [
    "import random\n",
    "rand_num = random.randint(1,101)\n",
    "if rand_num <= 25:\n",
    "    print \"1st Quartile\"\n",
    "elif rand_num <= 50:\n",
    "    print \"2nd Quartile\"\n",
    "elif rand_num <= 75:\n",
    "    print \"3rd Quartile\"\n",
    "else:\n",
    "    print \"4th Quartile\""
   ]
  },
  {
   "cell_type": "markdown",
   "metadata": {},
   "source": [
    "# Task 11"
   ]
  },
  {
   "cell_type": "code",
   "execution_count": 73,
   "metadata": {},
   "outputs": [
    {
     "name": "stdout",
     "output_type": "stream",
     "text": [
      "Warning, residents of Portola Valley, temperatures will reach sub-zero temperatures today, please stay indoors if possible\n",
      "Warning, residents of Menlo Park, temperatures will reach sub-zero temperatures today, please stay indoors if possible\n",
      "Warning, residents of Atherton, temperatures will reach sub-zero temperatures today, please stay indoors if possible\n",
      "Warning, residents of Woodside, temperatures will reach sub-zero temperatures today, please stay indoors if possible\n",
      "Warning, residents of San Francisco, temperatures will reach sub-zero temperatures today, please stay indoors if possible\n",
      "Warning, residents of Sun Valley, temperatures will reach sub-zero temperatures today, please stay indoors if possible\n"
     ]
    }
   ],
   "source": [
    "cities = [\"Portola Valley\", \"Menlo Park\", \"Atherton\", \"Woodside\", \"San Francisco\", \"Sun Valley\"]\n",
    "\n",
    "for city in cities:\n",
    "    print \"Warning, residents of \" + city + \", temperatures will reach sub-zero temperatures today, please stay indoors if possible\""
   ]
  },
  {
   "cell_type": "markdown",
   "metadata": {},
   "source": [
    "# Task 12"
   ]
  },
  {
   "cell_type": "code",
   "execution_count": 79,
   "metadata": {},
   "outputs": [
    {
     "name": "stdout",
     "output_type": "stream",
     "text": [
      "U://Users/Mbadger/Geog_458/Washington.shp\n",
      "U://Users/Mbadger/Geog_458/California.shp\n",
      "U://Users/Mbadger/Geog_458/Nevada.shp\n",
      "U://Users/Mbadger/Geog_458/Idaho.shp\n",
      "U://Users/Mbadger/Geog_458/Montana.shp\n",
      "U://Users/Mbadger/Geog_458/Utah.shp\n",
      "U://Users/Mbadger/Geog_458/Colorado.shp\n",
      "U://Users/Mbadger/Geog_458/New Mexico.shp\n"
     ]
    }
   ],
   "source": [
    "states = [\"Washington\", \"California\", \"Nevada\", \"Idaho\", \"Montana\", \"Utah\", \"Colorado\", \"New Mexico\"]\n",
    "files = []\n",
    "\n",
    "for state in states:\n",
    "    file = \"U://Users/Mbadger/Geog_458/\" + state + \".shp\"\n",
    "    print file\n",
    "    files.append(file)\n",
    "    \n",
    "    \n",
    "    "
   ]
  },
  {
   "cell_type": "markdown",
   "metadata": {},
   "source": [
    "# Task 13"
   ]
  },
  {
   "cell_type": "code",
   "execution_count": 83,
   "metadata": {},
   "outputs": [
    {
     "name": "stdout",
     "output_type": "stream",
     "text": [
      "T-minus 10\n",
      "T-minus 9\n",
      "T-minus 8\n",
      "T-minus 7\n",
      "T-minus 6\n",
      "T-minus 5\n",
      "T-minus 4\n",
      "T-minus 3\n",
      "T-minus 2\n",
      "T-minus 1\n",
      "T-minus 0\n"
     ]
    }
   ],
   "source": [
    "count = 10\n",
    "while count >= 0:\n",
    "    print \"T-minus \" + str(count)\n",
    "    count -= 1\n"
   ]
  },
  {
   "cell_type": "markdown",
   "metadata": {},
   "source": [
    "# Task 13 - Function"
   ]
  },
  {
   "cell_type": "code",
   "execution_count": 2,
   "metadata": {},
   "outputs": [
    {
     "ename": "SyntaxError",
     "evalue": "invalid syntax (<ipython-input-2-b0e62fd06b0f>, line 3)",
     "output_type": "error",
     "traceback": [
      "\u001b[1;36m  File \u001b[1;32m\"<ipython-input-2-b0e62fd06b0f>\"\u001b[1;36m, line \u001b[1;32m3\u001b[0m\n\u001b[1;33m    print \"T-mins \" + str(count)\u001b[0m\n\u001b[1;37m                  ^\u001b[0m\n\u001b[1;31mSyntaxError\u001b[0m\u001b[1;31m:\u001b[0m invalid syntax\n"
     ]
    }
   ],
   "source": [
    "def countdown(count):\n",
    "    while count >= 0:\n",
    "        print \"T-mins \" + str(count)\n",
    "        count -= 1\n",
    "        \n",
    "countdown(10)"
   ]
  },
  {
   "cell_type": "markdown",
   "metadata": {},
   "source": [
    "# Task 14"
   ]
  },
  {
   "cell_type": "code",
   "execution_count": 1,
   "metadata": {},
   "outputs": [],
   "source": [
    "def quartile_calc(num):\n",
    "    if num < 0 or num > 100:\n",
    "        return \"Error\"\n",
    "    elif num <= 25:\n",
    "        return \"1st Quartile\"\n",
    "    elif num <= 50:\n",
    "        return \"2nd Quartile\"\n",
    "    elif num <= 75:\n",
    "        return \"3rd Quartile\"\n",
    "    else:\n",
    "        return \"4th Quartile\""
   ]
  }
 ],
 "metadata": {
  "kernelspec": {
   "display_name": "Python 3",
   "language": "python",
   "name": "python3"
  },
  "language_info": {
   "codemirror_mode": {
    "name": "ipython",
    "version": 3
   },
   "file_extension": ".py",
   "mimetype": "text/x-python",
   "name": "python",
   "nbconvert_exporter": "python",
   "pygments_lexer": "ipython3",
   "version": "3.6.4"
  }
 },
 "nbformat": 4,
 "nbformat_minor": 2
}
